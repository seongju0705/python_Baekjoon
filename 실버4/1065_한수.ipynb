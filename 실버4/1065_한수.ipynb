{
 "cells": [
  {
   "cell_type": "markdown",
   "id": "ed4b43ae",
   "metadata": {},
   "source": [
    "어떤 양의 정수 X의 각 자리가 등차수열을 이룬다면, 그 수를 한수라고 한다. 등차수열은 연속된 두 개의 수의 차이가 일정한 수열을 말한다. N이 주어졌을 때, 1보다 크거나 같고, N보다 작거나 같은 한수의 개수를 출력하는 프로그램을 작성하시오. "
   ]
  },
  {
   "cell_type": "markdown",
   "id": "a8c736ff",
   "metadata": {},
   "source": [
    "입력: 첫째 줄에 1,000보다 작거나 같은 자연수 N이 주어진다.\n",
    "    \n",
    "출력: 첫째 줄에 1보다 크거나 같고, N보다 작거나 같은 한수의 개수를 출력한다."
   ]
  },
  {
   "cell_type": "code",
   "execution_count": 6,
   "id": "95d0f4e3",
   "metadata": {},
   "outputs": [
    {
     "name": "stdout",
     "output_type": "stream",
     "text": [
      "500\n",
      "119\n"
     ]
    }
   ],
   "source": [
    "n = int(input())\n",
    "hansu = 0\n",
    "for i in range(1, n + 1):\n",
    "    num_list = list(map(int, str(i)))\n",
    "    if i < 100:\n",
    "        hansu += 1\n",
    "    elif num_list[0] - num_list[1] == num_list[1] - num_list[2]:\n",
    "        hansu += 1\n",
    "print(hansu)"
   ]
  },
  {
   "cell_type": "code",
   "execution_count": null,
   "id": "8fcdde29",
   "metadata": {},
   "outputs": [],
   "source": []
  }
 ],
 "metadata": {
  "kernelspec": {
   "display_name": "Python 3 (ipykernel)",
   "language": "python",
   "name": "python3"
  },
  "language_info": {
   "codemirror_mode": {
    "name": "ipython",
    "version": 3
   },
   "file_extension": ".py",
   "mimetype": "text/x-python",
   "name": "python",
   "nbconvert_exporter": "python",
   "pygments_lexer": "ipython3",
   "version": "3.9.7"
  },
  "toc": {
   "base_numbering": 1,
   "nav_menu": {},
   "number_sections": true,
   "sideBar": true,
   "skip_h1_title": false,
   "title_cell": "Table of Contents",
   "title_sidebar": "Contents",
   "toc_cell": false,
   "toc_position": {},
   "toc_section_display": true,
   "toc_window_display": false
  }
 },
 "nbformat": 4,
 "nbformat_minor": 5
}
