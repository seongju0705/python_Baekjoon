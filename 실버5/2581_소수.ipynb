{
 "cells": [
  {
   "cell_type": "markdown",
   "id": "1a287236",
   "metadata": {},
   "source": [
    "자연수 M과 N이 주어질 때 M이상 N이하의 자연수 중 소수인 것을 모두 골라 이들 소수의 합과 최솟값을 찾는 프로그램을 작성하시오.\n",
    "\n",
    "예를 들어 M=60, N=100인 경우 60이상 100이하의 자연수 중 소수는 61, 67, 71, 73, 79, 83, 89, 97 총 8개가 있으므로, 이들 소수의 합은 620이고, 최솟값은 61이 된다."
   ]
  },
  {
   "cell_type": "markdown",
   "id": "1dcd7b7d",
   "metadata": {},
   "source": [
    "입력: 입력의 첫째 줄에 M이, 둘째 줄에 N이 주어진다.\n",
    "\n",
    "M과 N은 10,000이하의 자연수이며, M은 N보다 작거나 같다.\n",
    "\n",
    "출력: M이상 N이하의 자연수 중 소수인 것을 모두 찾아 첫째 줄에 그 합을, 둘째 줄에 그 중 최솟값을 출력한다. \n",
    "\n",
    "단, M이상 N이하의 자연수 중 소수가 없을 경우는 첫째 줄에 -1을 출력한다."
   ]
  },
  {
   "cell_type": "code",
   "execution_count": 5,
   "id": "a1bae418",
   "metadata": {},
   "outputs": [
    {
     "name": "stdout",
     "output_type": "stream",
     "text": [
      "60\n",
      "100\n",
      "620\n",
      "61\n"
     ]
    }
   ],
   "source": [
    "M = int(input())\n",
    "N = int(input())\n",
    "r = [num for num in range(M, N + 1)]\n",
    "\n",
    "for i in range(M, N + 1):\n",
    "    a = True\n",
    "    if i == 1:\n",
    "        r.remove(i)\n",
    "    for j in range(2, i):\n",
    "        if i % j == 0:\n",
    "            a = False\n",
    "    if a == False:\n",
    "        r.remove(i)\n",
    "\n",
    "if len(r) == 0:\n",
    "    print(-1)\n",
    "else:\n",
    "    print(sum(r))\n",
    "    print(min(r))"
   ]
  },
  {
   "cell_type": "code",
   "execution_count": null,
   "id": "fb86dec7",
   "metadata": {},
   "outputs": [],
   "source": []
  }
 ],
 "metadata": {
  "kernelspec": {
   "display_name": "Python 3 (ipykernel)",
   "language": "python",
   "name": "python3"
  },
  "language_info": {
   "codemirror_mode": {
    "name": "ipython",
    "version": 3
   },
   "file_extension": ".py",
   "mimetype": "text/x-python",
   "name": "python",
   "nbconvert_exporter": "python",
   "pygments_lexer": "ipython3",
   "version": "3.9.7"
  },
  "toc": {
   "base_numbering": 1,
   "nav_menu": {},
   "number_sections": true,
   "sideBar": true,
   "skip_h1_title": false,
   "title_cell": "Table of Contents",
   "title_sidebar": "Contents",
   "toc_cell": false,
   "toc_position": {},
   "toc_section_display": true,
   "toc_window_display": false
  }
 },
 "nbformat": 4,
 "nbformat_minor": 5
}
