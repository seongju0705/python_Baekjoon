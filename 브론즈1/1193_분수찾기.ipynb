{
 "cells": [
  {
   "cell_type": "markdown",
   "id": "baf5bfef",
   "metadata": {},
   "source": [
    "무한히 큰 배열에 다음과 같이 분수들이 적혀있다.\n",
    "\n",
    "1/1\t1/2\t1/3\t1/4\t1/5\t…\n",
    "2/1\t2/2\t2/3\t2/4\t…\t…\n",
    "3/1\t3/2\t3/3\t…\t…\t…\n",
    "4/1\t4/2\t…\t…\t…\t…\n",
    "5/1\t…\t…\t…\t…\t…\n",
    "…\t…\t…\t…\t…\t…\n",
    "\n",
    "이와 같이 나열된 분수들을 1/1 → 1/2 → 2/1 → 3/1 → 2/2 → … 과 같은 지그재그 순서로 차례대로 1번, 2번, 3번, 4번, 5번, … 분수라고 하자.\n",
    "\n",
    "X가 주어졌을 때, X번째 분수를 구하는 프로그램을 작성하시오."
   ]
  },
  {
   "cell_type": "markdown",
   "id": "2179fb4d",
   "metadata": {},
   "source": [
    "입력: 첫째 줄에 X(1 ≤ X ≤ 10,000,000)가 주어진다.\n",
    "\n",
    "출력: 첫째 줄에 분수를 출력한다."
   ]
  },
  {
   "cell_type": "code",
   "execution_count": 6,
   "id": "97b8773d",
   "metadata": {},
   "outputs": [
    {
     "name": "stdout",
     "output_type": "stream",
     "text": [
      "4\n",
      "3/1\n"
     ]
    }
   ],
   "source": [
    "X = int(input())\n",
    "\n",
    "#몇 번째 라인, 몇 번째 인덱스에 있는지를 찾아야 함\n",
    "#end는 그 라인의 마지막 인덱스\n",
    "line = 0\n",
    "end = 0\n",
    "\n",
    "while X > end:\n",
    "    line += 1\n",
    "    end += line\n",
    "    \n",
    "#라인 짝수, 홀수인 경우 나누어서 생각\n",
    "diff = end - X\n",
    "if line % 2 == 0:\n",
    "    top = line - diff\n",
    "    bottom = diff + 1\n",
    "else:\n",
    "    top = diff + 1\n",
    "    bottom = line - diff\n",
    "    \n",
    "print(str(top) + '/' + str(bottom))"
   ]
  },
  {
   "cell_type": "code",
   "execution_count": null,
   "id": "b32db879",
   "metadata": {},
   "outputs": [],
   "source": []
  }
 ],
 "metadata": {
  "kernelspec": {
   "display_name": "Python 3 (ipykernel)",
   "language": "python",
   "name": "python3"
  },
  "language_info": {
   "codemirror_mode": {
    "name": "ipython",
    "version": 3
   },
   "file_extension": ".py",
   "mimetype": "text/x-python",
   "name": "python",
   "nbconvert_exporter": "python",
   "pygments_lexer": "ipython3",
   "version": "3.9.7"
  },
  "toc": {
   "base_numbering": 1,
   "nav_menu": {},
   "number_sections": true,
   "sideBar": true,
   "skip_h1_title": false,
   "title_cell": "Table of Contents",
   "title_sidebar": "Contents",
   "toc_cell": false,
   "toc_position": {},
   "toc_section_display": true,
   "toc_window_display": false
  }
 },
 "nbformat": 4,
 "nbformat_minor": 5
}
