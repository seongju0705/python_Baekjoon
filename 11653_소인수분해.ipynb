{
 "cells": [
  {
   "cell_type": "markdown",
   "id": "8d24d5b5",
   "metadata": {},
   "source": [
    "정수 N이 주어졌을 때, 소인수분해하는 프로그램을 작성하시오."
   ]
  },
  {
   "cell_type": "markdown",
   "id": "4760396a",
   "metadata": {},
   "source": [
    "입력: 첫째 줄에 정수 N (1 ≤ N ≤ 10,000,000)이 주어진다.\n",
    "\n",
    "출력: N의 소인수분해 결과를 한 줄에 하나씩 오름차순으로 출력한다. N이 1인 경우 아무것도 출력하지 않는다."
   ]
  },
  {
   "cell_type": "code",
   "execution_count": 6,
   "id": "98e698e4",
   "metadata": {},
   "outputs": [
    {
     "name": "stdout",
     "output_type": "stream",
     "text": [
      "9991\n",
      "97\n",
      "103\n"
     ]
    }
   ],
   "source": [
    "N = int(input())\n",
    "num = list()\n",
    "i = 2\n",
    "\n",
    "while (N != 1):\n",
    "    while (N % i == 0):\n",
    "        N = N / i\n",
    "        num.append(i)\n",
    "    i += 1\n",
    "for n in num:\n",
    "    print(n)"
   ]
  },
  {
   "cell_type": "code",
   "execution_count": null,
   "id": "e1aa60bf",
   "metadata": {},
   "outputs": [],
   "source": []
  }
 ],
 "metadata": {
  "kernelspec": {
   "display_name": "Python 3 (ipykernel)",
   "language": "python",
   "name": "python3"
  },
  "language_info": {
   "codemirror_mode": {
    "name": "ipython",
    "version": 3
   },
   "file_extension": ".py",
   "mimetype": "text/x-python",
   "name": "python",
   "nbconvert_exporter": "python",
   "pygments_lexer": "ipython3",
   "version": "3.9.7"
  },
  "toc": {
   "base_numbering": 1,
   "nav_menu": {},
   "number_sections": true,
   "sideBar": true,
   "skip_h1_title": false,
   "title_cell": "Table of Contents",
   "title_sidebar": "Contents",
   "toc_cell": false,
   "toc_position": {},
   "toc_section_display": true,
   "toc_window_display": false
  }
 },
 "nbformat": 4,
 "nbformat_minor": 5
}
